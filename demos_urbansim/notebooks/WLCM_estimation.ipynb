{
 "cells": [
  {
   "cell_type": "code",
   "execution_count": 1,
   "id": "6c270f55",
   "metadata": {},
   "outputs": [],
   "source": [
    "import os \n",
    "os.chdir('../')"
   ]
  },
  {
   "cell_type": "code",
   "execution_count": 8,
   "id": "1fce343f",
   "metadata": {},
   "outputs": [],
   "source": [
    "import orca\n",
    "from urbansim_templates import modelmanager as mm\n",
    "from urbansim_templates.models import LargeMultinomialLogitStep\n",
    "from urbansim_templates.utils import get_data, get_df\n",
    "\n",
    "from choicemodels.tools import MergedChoiceTable\n",
    "\n",
    "from urbansim.models.util import columns_in_formula, apply_filter_query"
   ]
  },
  {
   "cell_type": "code",
   "execution_count": 10,
   "id": "920198c2",
   "metadata": {},
   "outputs": [],
   "source": [
    "region_code = '06197001'\n",
    "orca.add_injectable('running_calibration_routine', False)\n",
    "orca.add_injectable('local_simulation', True)\n",
    "orca.add_injectable('initial_run', False)\n",
    "orca.add_injectable('region_code', region_code)\n",
    "orca.add_injectable('base_year', 2010)\n",
    "orca.add_injectable('forecast_year', 2011)\n",
    "orca.add_injectable('calibrated', True)\n",
    "orca.add_injectable('calibrated_folder', 'custom')\n",
    "orca.add_injectable('multi_level_lcms', True)\n",
    "orca.add_injectable('segmented_lcms', True)\n",
    "orca.add_injectable('capacity_boost', 1)\n",
    "orca.add_injectable('all_local', True)\n",
    "orca.add_injectable('skim_source', 'beam')"
   ]
  },
  {
   "cell_type": "code",
   "execution_count": 14,
   "id": "c3e09e90",
   "metadata": {},
   "outputs": [
    {
     "name": "stdout",
     "output_type": "stream",
     "text": [
      "importing datasources\n",
      "importing datasources for region 06197001\n",
      "custom_mpo_06197001_model_data.h5\n",
      "Checking if custom_settings.yaml file exists\n",
      "Checking if custom output_parameters.yaml file exists\n"
     ]
    },
    {
     "name": "stderr",
     "output_type": "stream",
     "text": [
      "/Users/juandavidcaicedocastro/Dropbox/01_berkeley/22_UrbanSim/01_projects/MLCM/02_github/DEMOS_URBANSIM/demos_urbansim/datasources.py:356: FutureWarning: The frame.append method is deprecated and will be removed from pandas in a future version. Use pandas.concat instead.\n",
      "  hct = hct.append(forecast_hct.reset_index())\n",
      "/Users/juandavidcaicedocastro/Dropbox/01_berkeley/22_UrbanSim/01_projects/MLCM/02_github/DEMOS_URBANSIM/demos_urbansim/datasources.py:388: FutureWarning: The frame.append method is deprecated and will be removed from pandas in a future version. Use pandas.concat instead.\n",
      "  ect = ect.append(forecast_ect.reset_index())\n"
     ]
    },
    {
     "name": "stdout",
     "output_type": "stream",
     "text": [
      "Output path exists!\n",
      "importing variables for region 06197001\n"
     ]
    },
    {
     "ename": "ModuleNotFoundError",
     "evalue": "No module named 'stopwatch'",
     "output_type": "error",
     "traceback": [
      "\u001b[0;31m---------------------------------------------------------------------------\u001b[0m",
      "\u001b[0;31mModuleNotFoundError\u001b[0m                       Traceback (most recent call last)",
      "Cell \u001b[0;32mIn[14], line 3\u001b[0m\n\u001b[1;32m      1\u001b[0m \u001b[38;5;28;01mimport\u001b[39;00m \u001b[38;5;21;01mdatasources\u001b[39;00m\n\u001b[1;32m      2\u001b[0m \u001b[38;5;28;01mimport\u001b[39;00m \u001b[38;5;21;01mvariables\u001b[39;00m\n\u001b[0;32m----> 3\u001b[0m \u001b[38;5;28;01mimport\u001b[39;00m \u001b[38;5;21;01mmodels\u001b[39;00m\n",
      "File \u001b[0;32m~/Dropbox/01_berkeley/22_UrbanSim/01_projects/MLCM/02_github/DEMOS_URBANSIM/demos_urbansim/models.py:11\u001b[0m\n\u001b[1;32m      9\u001b[0m \u001b[38;5;28;01mimport\u001b[39;00m \u001b[38;5;21;01mpandana\u001b[39;00m \u001b[38;5;28;01mas\u001b[39;00m \u001b[38;5;21;01mpdna\u001b[39;00m\n\u001b[1;32m     10\u001b[0m \u001b[38;5;28;01mimport\u001b[39;00m \u001b[38;5;21;01mpandas\u001b[39;00m \u001b[38;5;28;01mas\u001b[39;00m \u001b[38;5;21;01mpd\u001b[39;00m\n\u001b[0;32m---> 11\u001b[0m \u001b[38;5;28;01mimport\u001b[39;00m \u001b[38;5;21;01mstopwatch\u001b[39;00m\n\u001b[1;32m     12\u001b[0m \u001b[38;5;28;01mimport\u001b[39;00m \u001b[38;5;21;01myaml\u001b[39;00m\n\u001b[1;32m     13\u001b[0m \u001b[38;5;28;01mfrom\u001b[39;00m \u001b[38;5;21;01mgoogle\u001b[39;00m\u001b[38;5;21;01m.\u001b[39;00m\u001b[38;5;21;01mcloud\u001b[39;00m \u001b[38;5;28;01mimport\u001b[39;00m storage\n",
      "\u001b[0;31mModuleNotFoundError\u001b[0m: No module named 'stopwatch'"
     ]
    }
   ],
   "source": [
    "import datasources\n",
    "import variables\n",
    "import models"
   ]
  },
  {
   "cell_type": "code",
   "execution_count": 2,
   "id": "f00c1683",
   "metadata": {},
   "outputs": [
    {
     "data": {
      "text/plain": [
       "'/Users/juandavidcaicedocastro/Dropbox/01_berkeley/22_UrbanSim/01_projects/MLCM/02_github/DEMOS_URBANSIM/demos_urbansim'"
      ]
     },
     "execution_count": 2,
     "metadata": {},
     "output_type": "execute_result"
    }
   ],
   "source": [
    "orca.add_injectable('running_calibration_routine', False)\n",
    "orca.add_injectable('local_simulation', True)\n",
    "orca.add_injectable('initial_run', False)\n",
    "orca.add_injectable('region_code', region_code)\n",
    "orca.add_injectable('base_year', 2010)\n",
    "orca.add_injectable('forecast_year', 2011)\n",
    "orca.add_injectable('calibrated', True)\n",
    "orca.add_injectable('calibrated_folder', 'custom')\n",
    "orca.add_injectable('multi_level_lcms', True)\n",
    "orca.add_injectable('segmented_lcms', True)\n",
    "orca.add_injectable('capacity_boost', 1)\n",
    "orca.add_injectable('all_local', True)\n",
    "orca.add_injectable('skim_source', 'beam')"
   ]
  },
  {
   "cell_type": "code",
   "execution_count": 4,
   "id": "475f2e67",
   "metadata": {},
   "outputs": [
    {
     "data": {
      "text/plain": [
       "['settings.yaml',\n",
       " 'agetest.py',\n",
       " 'marriage.py',\n",
       " 'models.py',\n",
       " 'requirements.txt',\n",
       " 'variables.py',\n",
       " 'plotting.py',\n",
       " 'simulate.py',\n",
       " 'indicators.py',\n",
       " '__pycache__',\n",
       " 'checkHouses.py',\n",
       " 'initr.py',\n",
       " 'fatalityTest.py',\n",
       " 'personsLength.py',\n",
       " 'utils.py',\n",
       " 'datasources.py',\n",
       " 'configs',\n",
       " 'process_skims.py',\n",
       " 'yaml_notebook.ipynb',\n",
       " 'data',\n",
       " 'outputs',\n",
       " 'wget-log',\n",
       " 'runs',\n",
       " 'notebooks']"
      ]
     },
     "execution_count": 4,
     "metadata": {},
     "output_type": "execute_result"
    }
   ],
   "source": []
  },
  {
   "cell_type": "code",
   "execution_count": null,
   "id": "ea40a65b",
   "metadata": {},
   "outputs": [],
   "source": []
  }
 ],
 "metadata": {
  "kernelspec": {
   "display_name": "mlcm",
   "language": "python",
   "name": "mlcm"
  },
  "language_info": {
   "codemirror_mode": {
    "name": "ipython",
    "version": 3
   },
   "file_extension": ".py",
   "mimetype": "text/x-python",
   "name": "python",
   "nbconvert_exporter": "python",
   "pygments_lexer": "ipython3",
   "version": "3.9.16"
  }
 },
 "nbformat": 4,
 "nbformat_minor": 5
}
