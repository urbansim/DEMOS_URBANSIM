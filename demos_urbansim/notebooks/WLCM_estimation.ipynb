{
 "cells": [
  {
   "cell_type": "code",
   "execution_count": 1,
   "id": "15e4a1cd",
   "metadata": {},
   "outputs": [],
   "source": [
    "import os \n",
    "os.chdir('../')"
   ]
  },
  {
   "cell_type": "code",
   "execution_count": 2,
   "id": "819f0861",
   "metadata": {},
   "outputs": [],
   "source": [
    "import orca\n",
    "from collections import OrderedDict\n",
    "from urbansim_templates import modelmanager as mm\n",
    "from urbansim_templates.models import LargeMultinomialLogitStep\n",
    "from urbansim_templates.utils import get_data, get_df\n",
    "\n",
    "from choicemodels.tools import MergedChoiceTable\n",
    "\n",
    "from urbansim.models.util import columns_in_formula, apply_filter_query"
   ]
  },
  {
   "cell_type": "code",
   "execution_count": 3,
   "id": "7db2cbe0",
   "metadata": {},
   "outputs": [],
   "source": [
    "region_code = '06197001'\n",
    "orca.add_injectable('running_calibration_routine', False)\n",
    "orca.add_injectable('local_simulation', True)\n",
    "orca.add_injectable('initial_run', False)\n",
    "orca.add_injectable('region_code', region_code)\n",
    "orca.add_injectable('base_year', 2010)\n",
    "orca.add_injectable('forecast_year', 2011)\n",
    "orca.add_injectable('calibrated', True)\n",
    "orca.add_injectable('calibrated_folder', 'custom')\n",
    "orca.add_injectable('multi_level_lcms', True)\n",
    "orca.add_injectable('segmented_lcms', True)\n",
    "orca.add_injectable('capacity_boost', 1)\n",
    "orca.add_injectable('all_local', True)\n",
    "orca.add_injectable('skim_source', 'beam')"
   ]
  },
  {
   "cell_type": "code",
   "execution_count": 4,
   "id": "a12407ea",
   "metadata": {},
   "outputs": [
    {
     "name": "stdout",
     "output_type": "stream",
     "text": [
      "importing datasources\n",
      "importing datasources for region 06197001\n",
      "custom_mpo_06197001_model_data.h5\n",
      "Checking if custom_settings.yaml file exists\n",
      "Checking if custom output_parameters.yaml file exists\n"
     ]
    },
    {
     "name": "stderr",
     "output_type": "stream",
     "text": [
      "/Users/juandavidcaicedocastro/Dropbox/01_berkeley/22_UrbanSim/01_projects/MLCM/02_github/DEMOS_URBANSIM/demos_urbansim/datasources.py:358: FutureWarning: The frame.append method is deprecated and will be removed from pandas in a future version. Use pandas.concat instead.\n",
      "  hct = hct.append(forecast_hct.reset_index())\n",
      "/Users/juandavidcaicedocastro/Dropbox/01_berkeley/22_UrbanSim/01_projects/MLCM/02_github/DEMOS_URBANSIM/demos_urbansim/datasources.py:390: FutureWarning: The frame.append method is deprecated and will be removed from pandas in a future version. Use pandas.concat instead.\n",
      "  ect = ect.append(forecast_ect.reset_index())\n"
     ]
    },
    {
     "name": "stdout",
     "output_type": "stream",
     "text": [
      "Output path exists!\n",
      "importing variables for region 06197001\n",
      "importing models for region 06197001\n",
      "Checking if value configs exist\n",
      "Checking if rent configs exist\n"
     ]
    }
   ],
   "source": [
    "import datasources\n",
    "import variables\n",
    "import models"
   ]
  },
  {
   "cell_type": "code",
   "execution_count": 5,
   "id": "4e901d3b",
   "metadata": {},
   "outputs": [
    {
     "name": "stdout",
     "output_type": "stream",
     "text": [
      "Registering model step 'hlcm_county_own_1p_54less_pf'\n",
      "Registering model step 'rdplcm_06081_blocks_pf'\n",
      "Registering model step 'hlcm_06013_blocks_rent_1p_54less_pf'\n",
      "Registering model step 'elcm_06097_blocks_1_pf'\n",
      "Registering model step 'hlcm_06001_blocks_pf'\n",
      "Registering model step 'mortality'\n",
      "Registering model step 'hlcm_06075_blocks_own_2p_54less_pf'\n",
      "Registering model step 'elcm_06001_blocks_2_pf'\n",
      "Registering model step 'elcm_06041_blocks_3_pf'\n",
      "Registering model step 'hlcm_06081_blocks_own_1p_54less_pf'\n",
      "Registering model step 'elcm_06075_blocks_0_pf'\n",
      "Registering model step 'hlcm_06013_blocks_pf'\n",
      "Registering model step 'rdplcm_06013_blocks_sf_pf'\n",
      "Registering model step 'hlcm_06055_blocks_own_1p_54less_pf'\n",
      "Registering model step 'hlcm_06013_blocks_own_2p_54less_pf'\n",
      "Registering model step 'hlcm_06085_blocks_own_2p_54less_pf'\n",
      "Registering model step 'elcm_06013_blocks_4_pf'\n",
      "Registering model step 'hlcm_06085_blocks_rent_2p_54less_pf'\n",
      "Registering model step 'hlcm_06097_blocks_own_1p_55plus_pf'\n",
      "Registering model step 'rdplcm_06095_blocks_mf_pf'\n",
      "Registering model step 'hlcm_06001_blocks_own_1p_55plus_pf'\n",
      "Registering model step 'rdplcm_06075_blocks_sf_pf'\n",
      "Registering model step 'elcm_06055_blocks_3_pf'\n",
      "Registering model step 'hlcm_06095_blocks_pf'\n",
      "Registering model step 'rdplcm_06041_blocks_sf_pf'\n",
      "Registering model step 'rdplcm_06041_blocks_mf_pf'\n",
      "Registering model step 'elcm_06013_blocks_5_pf'\n",
      "Registering model step 'rdplcm_06001_blocks_pf'\n",
      "Registering model step 'hlcm_06081_blocks_own_1p_55plus_pf'\n",
      "Registering model step 'hlcm_06081_blocks_pf'\n",
      "Registering model step 'hlcm_06075_blocks_own_2p_55plus_pf'\n",
      "Registering model step 'rdplcm_06013_blocks_mf_pf'\n",
      "Registering model step 'hlcm_06013_blocks_rent_1p_55plus_pf'\n",
      "Registering model step 'hlcm_county_own_1p_55plus_pf'\n",
      "Registering model step 'elcm_06055_blocks_2_pf'\n",
      "Registering model step 'rdplcm_06075_blocks_mf_pf'\n",
      "Registering model step 'rdplcm_06095_blocks_sf_pf'\n",
      "Registering model step 'elcm_06097_blocks_0_pf'\n",
      "Registering model step 'rdplcm_06013_blocks_pf'\n",
      "Registering model step 'elcm_06041_blocks_2_pf'\n",
      "Registering model step 'elcm_06001_blocks_3_pf'\n",
      "Registering model step 'kids_move'\n",
      "Registering model step 'elcm_06075_blocks_1_pf'\n",
      "Registering model step 'hlcm_06001_blocks_own_1p_54less_pf'\n",
      "Registering model step 'hlcm_06085_blocks_rent_2p_55plus_pf'\n",
      "Registering model step 'hlcm_06097_blocks_own_1p_54less_pf'\n",
      "Registering model step 'rdplcm_06095_blocks_pf'\n",
      "Registering model step 'hlcm_06085_blocks_own_2p_55plus_pf'\n",
      "Registering model step 'hlcm_06055_blocks_own_1p_55plus_pf'\n",
      "Registering model step 'hlcm_06013_blocks_own_2p_55plus_pf'\n",
      "Registering model step 'hlcm_06041_blocks_rent_1p_55plus_pf'\n",
      "Registering model step 'rdplcm_06075_blocks_pf'\n",
      "Registering model step 'hlcm_county_rent_2p_54less_pf'\n",
      "Registering model step 'elcm_06085_blocks_4_pf'\n",
      "Registering model step 'hlcm_06097_blocks_rent_1p_54less_pf'\n",
      "Registering model step 'elcm_06055_blocks_0_pf'\n",
      "Registering model step 'hlcm_06055_blocks_rent_2p_54less_pf'\n",
      "Registering model step 'elcm_county_4_pf'\n",
      "Registering model step 'elcm_06081_blocks_5_pf'\n",
      "Registering model step 'rdplcm_06097_blocks_pf'\n",
      "Registering model step 'hlcm_06095_blocks_own_2p_54less_pf'\n",
      "Registering model step 'elcm_06001_blocks_1_pf'\n",
      "Registering model step 'elcm_06041_blocks_0_pf'\n",
      "Registering model step 'elcm_06041_blocks_pf'\n",
      "Registering model step 'hlcm_06081_blocks_rent_1p_55plus_pf'\n",
      "Registering model step 'elcm_06097_blocks_2_pf'\n",
      "Registering model step 'elcm_06095_blocks_5_pf'\n",
      "Registering model step 'hlcm_06041_blocks_own_2p_54less_pf'\n",
      "Registering model step 'rdplcm_06097_blocks_mf_pf'\n",
      "Registering model step 'rdplcm_06085_blocks_pf'\n",
      "Registering model step 'hlcm_06001_blocks_rent_2p_54less_pf'\n",
      "Registering model step 'hlcm_06095_blocks_rent_2p_54less_pf'\n",
      "Registering model step 'elcm_06075_blocks_3_pf'\n",
      "Registering model step 'hlcm_06075_blocks_rent_1p_55plus_pf'\n",
      "Registering model step 'hlcm_06095_blocks_own_2p_55plus_pf'\n",
      "Registering model step 'elcm_06041_blocks_1_pf'\n",
      "Registering model step 'elcm_06001_blocks_0_pf'\n",
      "Registering model step 'hlcm_06075_blocks_pf'\n",
      "Registering model step 'WLCM_v1'\n",
      "Registering model step 'hlcm_06055_blocks_rent_2p_55plus_pf'\n",
      "Registering model step 'elcm_06097_blocks_3_pf'\n",
      "Registering model step 'hlcm_06097_blocks_rent_1p_55plus_pf'\n",
      "Registering model step 'elcm_06095_blocks_4_pf'\n",
      "Registering model step 'hlcm_county_pf'\n",
      "Registering model step 'elcm_06055_blocks_pf'\n",
      "Registering model step 'hlcm_county_rent_2p_55plus_pf'\n",
      "Registering model step 'hlcm_06097_blocks_pf'\n",
      "Registering model step 'hlcm_06041_blocks_rent_1p_54less_pf'\n",
      "Registering model step 'rdplcm_06097_blocks_sf_pf'\n",
      "Registering model step 'elcm_06075_blocks_2_pf'\n",
      "Registering model step 'hlcm_06075_blocks_rent_1p_54less_pf'\n",
      "Registering model step 'hlcm_06095_blocks_rent_2p_55plus_pf'\n",
      "Registering model step 'hlcm_06001_blocks_rent_2p_55plus_pf'\n",
      "Registering model step 'wlcm'\n",
      "Registering model step 'elcm_06085_blocks_5_pf'\n",
      "Registering model step 'hlcm_06085_blocks_pf'\n",
      "Registering model step 'elcm_06055_blocks_1_pf'\n",
      "Registering model step 'hlcm_06041_blocks_own_2p_55plus_pf'\n",
      "Registering model step 'hlcm_06081_blocks_rent_1p_54less_pf'\n",
      "Registering model step 'elcm_06081_blocks_4_pf'\n",
      "Registering model step 'elcm_county_5_pf'\n",
      "Registering model step 'education'\n",
      "Registering model step 'hlcm_county_own_2p_55plus_pf'\n",
      "Registering model step 'elcm_06055_blocks_4_pf'\n",
      "Registering model step 'rdplcm_06001_blocks_mf_pf'\n",
      "Registering model step 'hlcm_06013_blocks_rent_2p_55plus_pf'\n",
      "Registering model step 'elcm_county_0_pf'\n",
      "Registering model step 'hlcm_06075_blocks_own_1p_55plus_pf'\n",
      "Registering model step 'elcm_06081_blocks_1_pf'\n",
      "Registering model step 'elcm_06013_blocks_3_pf'\n",
      "Registering model step 'hlcm_06081_blocks_own_2p_55plus_pf'\n",
      "Registering model step 'elcm_06085_blocks_0_pf'\n",
      "Registering model step 'rdplcm_06055_blocks_pf'\n",
      "Registering model step 'hlcm_06013_blocks_own_1p_55plus_pf'\n",
      "Registering model step 'hlcm_06055_blocks_own_2p_55plus_pf'\n",
      "Registering model step 'hlcm_06085_blocks_own_1p_55plus_pf'\n",
      "Registering model step 'hlcm_06041_blocks_pf'\n",
      "Registering model step 'WLCM_v2'\n",
      "Registering model step 'hlcm_06085_blocks_rent_1p_55plus_pf'\n",
      "Registering model step 'hlcm_06097_blocks_own_2p_54less_pf'\n",
      "Registering model step 'hlcm_06001_blocks_own_2p_54less_pf'\n",
      "Registering model step 'elcm_06041_blocks_4_pf'\n",
      "Registering model step 'elcm_06001_blocks_5_pf'\n",
      "Registering model step 'elcm_06095_blocks_1_pf'\n",
      "Registering model step 'elcm_county_pf'\n",
      "Registering model step 'elcm_06075_blocks_pf'\n",
      "Registering model step 'hlcm_06081_blocks_own_2p_54less_pf'\n",
      "Registering model step 'elcm_06001_blocks_4_pf'\n",
      "Registering model step 'elcm_06097_blocks_pf'\n",
      "Registering model step 'elcm_06041_blocks_5_pf'\n",
      "Registering model step 'birth'\n",
      "Registering model step 'hlcm_06055_blocks_pf'\n",
      "Registering model step 'hlcm_06075_blocks_own_1p_54less_pf'\n",
      "Registering model step 'elcm_06095_blocks_0_pf'\n",
      "Registering model step 'hlcm_06013_blocks_rent_2p_54less_pf'\n",
      "Registering model step 'hlcm_county_own_2p_54less_pf'\n",
      "Registering model step 'elcm_06055_blocks_5_pf'\n",
      "Registering model step 'rdplcm_06041_blocks_pf'\n",
      "Registering model step 'elcm_06081_blocks_0_pf'\n",
      "Registering model step 'elcm_county_1_pf'\n",
      "Registering model step 'rdplcm_06001_blocks_sf_pf'\n",
      "Registering model step 'elcm_06013_blocks_2_pf'\n",
      "Registering model step 'elcm_06085_blocks_pf'\n",
      "Registering model step 'hlcm_06001_blocks_own_2p_55plus_pf'\n",
      "Registering model step 'hlcm_06085_blocks_rent_1p_54less_pf'\n",
      "Registering model step 'hlcm_06097_blocks_own_2p_55plus_pf'\n",
      "Registering model step 'hlcm_06085_blocks_own_1p_54less_pf'\n",
      "Registering model step 'elcm_06085_blocks_1_pf'\n",
      "Registering model step 'hlcm_06013_blocks_own_1p_54less_pf'\n",
      "Registering model step 'hlcm_06055_blocks_own_2p_54less_pf'\n",
      "Registering model step 'hlcm_06041_blocks_rent_2p_54less_pf'\n",
      "Registering model step 'elcm_06075_blocks_4_pf'\n",
      "Registering model step 'elcm_06001_blocks_pf'\n",
      "Registering model step 'hlcm_county_rent_1p_55plus_pf'\n",
      "Registering model step 'rdplcm_06055_blocks_sf_pf'\n",
      "Registering model step 'rdplcm_06085_blocks_sf_pf'\n",
      "Registering model step 'elcm_06097_blocks_5_pf'\n",
      "Registering model step 'hlcm_06055_blocks_rent_1p_55plus_pf'\n",
      "Registering model step 'elcm_06095_blocks_2_pf'\n",
      "Registering model step 'hlcm_06097_blocks_rent_2p_55plus_pf'\n",
      "Registering model step 'rdplcm_06081_blocks_mf_pf'\n",
      "Registering model step 'hlcm_06095_blocks_own_1p_55plus_pf'\n",
      "Registering model step 'divorce'\n",
      "Registering model step 'rdplcm_county_pf'\n",
      "Registering model step 'elcm_06013_blocks_pf'\n",
      "Registering model step 'elcm_county_3_pf'\n",
      "Registering model step 'elcm_06081_blocks_2_pf'\n",
      "Registering model step 'hlcm_06081_blocks_rent_2p_54less_pf'\n",
      "Registering model step 'hlcm_06041_blocks_own_1p_55plus_pf'\n",
      "Registering model step 'elcm_06085_blocks_3_pf'\n",
      "Registering model step 'rdplcm_county_sf_pf'\n",
      "Registering model step 'hlcm_06075_blocks_rent_2p_54less_pf'\n",
      "Registering model step 'elcm_06095_blocks_pf'\n",
      "Registering model step 'hlcm_06095_blocks_rent_1p_55plus_pf'\n",
      "Registering model step 'hlcm_06001_blocks_rent_1p_55plus_pf'\n",
      "Registering model step 'elcm_06013_blocks_0_pf'\n",
      "Registering model step 'elcm_06081_blocks_3_pf'\n",
      "Registering model step 'elcm_county_2_pf'\n",
      "Registering model step 'hlcm_06095_blocks_own_1p_54less_pf'\n",
      "Registering model step 'rdplcm_county_mf_pf'\n",
      "Registering model step 'elcm_06081_blocks_pf'\n",
      "Registering model step 'hlcm_06097_blocks_rent_2p_54less_pf'\n",
      "Registering model step 'hlcm_06055_blocks_rent_1p_54less_pf'\n",
      "Registering model step 'elcm_06085_blocks_2_pf'\n",
      "Registering model step 'hlcm_county_rent_1p_54less_pf'\n",
      "Registering model step 'elcm_06013_blocks_1_pf'\n",
      "Registering model step 'hlcm_06041_blocks_rent_2p_55plus_pf'\n",
      "Registering model step 'hlcm_06001_blocks_rent_1p_54less_pf'\n",
      "Registering model step 'hlcm_06095_blocks_rent_1p_54less_pf'\n",
      "Registering model step 'hlcm_06075_blocks_rent_2p_55plus_pf'\n",
      "Registering model step 'elcm_06075_blocks_5_pf'\n",
      "Registering model step 'rdplcm_06081_blocks_sf_pf'\n",
      "Registering model step 'hlcm_06041_blocks_own_1p_54less_pf'\n",
      "Registering model step 'hlcm_06081_blocks_rent_2p_55plus_pf'\n",
      "Registering model step 'elcm_06097_blocks_4_pf'\n",
      "Registering model step 'elcm_06095_blocks_3_pf'\n",
      "Registering model step 'rdplcm_06055_blocks_mf_pf'\n",
      "Registering model step 'rdplcm_06085_blocks_mf_pf'\n",
      "Running step 'build_networks'\n",
      "Number of nodes is 92395.\n",
      "Number of edges is 232266.\n",
      "Generating contraction hierarchies with 8 threads.\n",
      "Setting CH node vector of size 92395\n",
      "Setting CH edge vector of size 232266\n",
      "Range graph removed 233224 edges of 464532\n"
     ]
    },
    {
     "name": "stdout",
     "output_type": "stream",
     "text": [
      ". 10% . 20% . 30% . 40% . 50% . 60% . 70% . 80% . 90% . 100%\n",
      "Precomputing network for distance 1000.\n",
      "Network precompute starting.\n",
      "Network precompute done.\n"
     ]
    },
    {
     "name": "stderr",
     "output_type": "stream",
     "text": [
      "/Users/juandavidcaicedocastro/Dropbox/01_berkeley/22_UrbanSim/01_projects/MLCM/02_github/DEMOS_URBANSIM/demos_urbansim/variables.py:1431: FutureWarning: The default value of numeric_only in DataFrameGroupBy.mean is deprecated. In a future version, numeric_only will default to False. Either specify numeric_only or select only columns which should be valid for the function.\n",
      "  coords = blocks.local.groupby('block_group_id').mean().reset_index()\n",
      "/Users/juandavidcaicedocastro/Dropbox/01_berkeley/22_UrbanSim/01_projects/MLCM/02_github/DEMOS_URBANSIM/demos_urbansim/variables.py:1423: FutureWarning: The default value of numeric_only in DataFrameGroupBy.mean is deprecated. In a future version, numeric_only will default to False. Either specify numeric_only or select only columns which should be valid for the function.\n",
      "  coords = blocks.local.groupby('block_group_id').mean().reset_index()\n"
     ]
    },
    {
     "name": "stdout",
     "output_type": "stream",
     "text": [
      "Time to execute step 'build_networks': 4.02 s\n",
      "Running step 'generate_outputs'\n",
      "Generating outputs for (year 2010, forecast year 2011)...\n",
      "Time to execute step 'generate_outputs': 0.00 s\n",
      "Running step 'update_travel_data'\n",
      "Time to execute step 'update_travel_data': 1.93 s\n",
      "Total time to execute iteration 1 with iteration value None: 5.96 s\n"
     ]
    }
   ],
   "source": [
    "configs_folder = 'configs/calibrated_configs/custom/06197001'\n",
    "mm.initialize(configs_folder)\n",
    "orca.run(orca.get_injectable('pre_processing_steps'))"
   ]
  },
  {
   "cell_type": "markdown",
   "id": "7e9b0ee7",
   "metadata": {},
   "source": [
    "## Estimation"
   ]
  },
  {
   "cell_type": "markdown",
   "id": "53e5d0a5",
   "metadata": {},
   "source": [
    "### Persons Table"
   ]
  },
  {
   "cell_type": "code",
   "execution_count": null,
   "id": "58bc605b",
   "metadata": {},
   "outputs": [],
   "source": [
    "@orca.column('persons')\n",
    "def very_high_income(persons):\n",
    "    return (persons.earning >= 500000).astype(int)"
   ]
  },
  {
   "cell_type": "code",
   "execution_count": null,
   "id": "93f586e4",
   "metadata": {},
   "outputs": [],
   "source": [
    "# Orca Table \n",
    "persons = orca.get_table('persons').to_frame()"
   ]
  },
  {
   "cell_type": "code",
   "execution_count": null,
   "id": "3d45e5fa",
   "metadata": {},
   "outputs": [],
   "source": [
    "sample_size = 10000\n",
    "\n",
    "workers = persons[persons.work_zone_id > 0]\n",
    "workers = workers.sample(sample_size)\n",
    "\n",
    "workers = workers[['age', 'home_taz','work_zone_id', \n",
    "                   'taz_pct_no_higher_ed', \n",
    "                   'taz_pct_hh_inc_under_25k', 'earning', 'no_higher_ed', 'very_high_income']]\n",
    "\n",
    "workers['zone_id'] = workers.work_zone_id.astype(str)"
   ]
  },
  {
   "cell_type": "markdown",
   "id": "a3924d72",
   "metadata": {},
   "source": [
    "### Travel Data"
   ]
  },
  {
   "cell_type": "code",
   "execution_count": null,
   "id": "406d0cef",
   "metadata": {},
   "outputs": [],
   "source": [
    "from itertools import product "
   ]
  },
  {
   "cell_type": "code",
   "execution_count": null,
   "id": "bed8499d",
   "metadata": {},
   "outputs": [],
   "source": [
    "from itertools import product \n",
    "\n",
    "def add_missing_combinations(df):\n",
    "    # Get the unique values from each index level\n",
    "    index_values = [df.index.get_level_values(level).unique() for level in range(df.index.nlevels)]\n",
    "\n",
    "    # Generate all possible pair combinations\n",
    "    index_pairs = list(product(*index_values))\n",
    "\n",
    "    # Reindex the DataFrame with all possible combinations\n",
    "    new_df = df.reindex(index=index_pairs)\n",
    "\n",
    "    return new_df\n",
    "\n",
    "@orca.step('update_travel_data')\n",
    "def update_travel_data(travel_data):\n",
    "    t = travel_data.local\n",
    "    t = add_missing_combinations(t)\n",
    "    orca.add_table('travel_data', t)\n",
    "    "
   ]
  },
  {
   "cell_type": "code",
   "execution_count": null,
   "id": "614918d7",
   "metadata": {},
   "outputs": [],
   "source": [
    "orca.run(['update_travel_data'])"
   ]
  },
  {
   "cell_type": "code",
   "execution_count": null,
   "id": "836c71ff",
   "metadata": {},
   "outputs": [],
   "source": [
    "travel_data = orca.get_table('travel_data').to_frame(columns = ['tour_sov_in_vehicle_time', \n",
    "                                                                'logsum', \n",
    "                                                                'tour_dist'])"
   ]
  },
  {
   "cell_type": "code",
   "execution_count": null,
   "id": "e563eafd",
   "metadata": {},
   "outputs": [],
   "source": [
    "travel_data.index = travel_data.index.set_names(['home_taz', 'zone_id'])"
   ]
  },
  {
   "cell_type": "code",
   "execution_count": null,
   "id": "c9fa350d",
   "metadata": {},
   "outputs": [],
   "source": [
    "travel_data['dist_0_5'] = travel_data['tour_dist'].clip(0,5)\n",
    "travel_data['dist_1_2'] = (travel_data['tour_dist']-1).clip(0,1)\n",
    "travel_data['dist_2_5'] = (travel_data['tour_dist']-2).clip(0,3)\n",
    "travel_data['dist_5_15'] = (travel_data['tour_dist']-5).clip(0,10)\n",
    "travel_data['dist_15plus'] = (travel_data['tour_dist']-15).clip(0)"
   ]
  },
  {
   "cell_type": "markdown",
   "id": "92011ab5",
   "metadata": {},
   "source": [
    "### Zones Table"
   ]
  },
  {
   "cell_type": "code",
   "execution_count": null,
   "id": "cb9fb0e9",
   "metadata": {},
   "outputs": [],
   "source": [
    "accesibility_vars = ['jobs_1_sum_20_min_sov',\n",
    "                     'jobs_2_sum_20_min_sov',\n",
    "                     'jobs_3_sum_20_min_sov',\n",
    "                     'jobs_5_sum_20_min_sov',\n",
    "                     'jobs_4_sum_20_min_sov',\n",
    "                     'jobs_0_sum_20_min_sov', \n",
    "                     'pct_hh_inc_under_25k',\n",
    "                     'pct_hh_inc_25_to_75k',\n",
    "                     'pct_hh_inc_75_to_200k',\n",
    "                     'pct_no_higher_ed',\n",
    "                     'pct_sector_tech',\n",
    "                     'pct_sector_retail',\n",
    "                     'pct_sector_healthcare', 'density_jobs', 'density_jobs_ave_5_min_sov'\n",
    "                    ]"
   ]
  },
  {
   "cell_type": "code",
   "execution_count": null,
   "id": "ecfc3eda",
   "metadata": {},
   "outputs": [],
   "source": [
    "zones = orca.get_table('zones').to_frame(columns = accesibility_vars)"
   ]
  },
  {
   "cell_type": "code",
   "execution_count": null,
   "id": "39027d1d",
   "metadata": {},
   "outputs": [],
   "source": [
    "zones"
   ]
  },
  {
   "cell_type": "markdown",
   "id": "4493674d",
   "metadata": {},
   "source": [
    "### Merge Choice Table (MCT)"
   ]
  },
  {
   "cell_type": "code",
   "execution_count": null,
   "id": "057ad21e",
   "metadata": {},
   "outputs": [],
   "source": [
    "m = LargeMultinomialLogitStep()\n",
    "m.name = 'WLCM'"
   ]
  },
  {
   "cell_type": "code",
   "execution_count": null,
   "id": "e61cfad2",
   "metadata": {},
   "outputs": [],
   "source": [
    "table = MergedChoiceTable(observations = workers, \n",
    "                          alternatives = zones, \n",
    "                          chosen_alternatives = 'zone_id', \n",
    "                          sample_size = 100, \n",
    "                          interaction_terms = travel_data,\n",
    "                         )\n",
    "\n",
    "\n",
    "m.mergedchoicetable = table\n",
    "# table.to_frame().shape"
   ]
  },
  {
   "cell_type": "code",
   "execution_count": null,
   "id": "c5fff694",
   "metadata": {},
   "outputs": [],
   "source": [
    "m.model_expression = ('logsum + '\n",
    "                      'logsum:no_higher_ed +'\n",
    "                      'np.log1p(jobs_1_sum_20_min_sov)+ np.log1p(jobs_2_sum_20_min_sov) +'\n",
    "                      'np.log1p(jobs_3_sum_20_min_sov)+ np.log1p(jobs_4_sum_20_min_sov) +'\n",
    "                      'np.log1p(jobs_5_sum_20_min_sov) + pct_sector_tech + pct_sector_retail +'\n",
    "                      'np.log1p(density_jobs) +'\n",
    "                      'dist_0_5 + dist_5_15 + dist_15plus '\n",
    "                      ' - 1'\n",
    "                     )\n",
    "\n",
    "m.fit(table)"
   ]
  },
  {
   "cell_type": "code",
   "execution_count": null,
   "id": "bff05f0a",
   "metadata": {},
   "outputs": [],
   "source": [
    "m.name = 'WLCM_v1'\n",
    "mm.register(m)"
   ]
  },
  {
   "cell_type": "markdown",
   "id": "b4757d37",
   "metadata": {},
   "source": [
    "### Running Block Level Simulation"
   ]
  },
  {
   "cell_type": "code",
   "execution_count": 6,
   "id": "4257ad42",
   "metadata": {},
   "outputs": [],
   "source": [
    "m = mm.get_step('WLCM_v1')"
   ]
  },
  {
   "cell_type": "code",
   "execution_count": 7,
   "id": "4c6d1fc6",
   "metadata": {},
   "outputs": [
    {
     "data": {
      "text/plain": [
       "'logsum + logsum:no_higher_ed +np.log1p(zones_jobs_1_sum_20_min_sov)+ np.log1p(zones_jobs_2_sum_20_min_sov) +np.log1p(zones_jobs_3_sum_20_min_sov)+ np.log1p(zones_jobs_4_sum_20_min_sov) +np.log1p(zones_jobs_5_sum_20_min_sov) + pct_sector_tech + pct_sector_retail +np.log1p(density_jobs) +dist_0_5 + dist_5_15 + dist_15plus  - 1'"
      ]
     },
     "execution_count": 7,
     "metadata": {},
     "output_type": "execute_result"
    }
   ],
   "source": [
    "m.model_expression"
   ]
  },
  {
   "cell_type": "code",
   "execution_count": 8,
   "id": "0f0c3d82",
   "metadata": {},
   "outputs": [],
   "source": [
    "mct_intx_ops = OrderedDict({\n",
    "    'extra_alts_cols': ['zone_id'],\n",
    "    'extra_obs_cols':['home_taz'],\n",
    "    'successive_merges': [{\n",
    "        'right_table': 'travel_data',\n",
    "        'right_cols':['logsum', 'tour_sov_in_vehicle_time', 'tour_dist', \n",
    "                      'dist_0_5','dist_5_15', 'dist_15plus'],\n",
    "        'left_on': ['home_taz', 'zone_id'],\n",
    "        'right_index': True,\n",
    "        'how': 'left'\n",
    "    }],\n",
    "#     'aggregations': None,\n",
    "#     'rename_cols': None,\n",
    "#     'sequential_eval_ops': None\n",
    "})"
   ]
  },
  {
   "cell_type": "code",
   "execution_count": 9,
   "id": "7b1682a7",
   "metadata": {},
   "outputs": [],
   "source": [
    "m.out_choosers = 'persons'\n",
    "m.out_column = 'work_location'\n",
    "m.out_chooser_filters = ['worker == 1', 'work_at_home == 0']\n",
    "m.tags = ['juan']\n",
    "m.name = 'wlcm'\n",
    "m.alt_sample_size = 100\n",
    "m.alternatives = 'blocks'\n",
    "m.alt_capacity = 'employment_capacity'\n",
    "m.constrained_choices = True\n",
    "m.mct_intx_ops = mct_intx_ops"
   ]
  },
  {
   "cell_type": "code",
   "execution_count": null,
   "id": "a240a39a",
   "metadata": {},
   "outputs": [],
   "source": [
    "# orca.get_table('blocks').columns"
   ]
  },
  {
   "cell_type": "code",
   "execution_count": null,
   "id": "4bc4a70a",
   "metadata": {
    "scrolled": false
   },
   "outputs": [
    {
     "name": "stdout",
     "output_type": "stream",
     "text": [
      "Calculating sum of jobs_1 within min 20 based on sov from skim\n",
      "Calculating sum of jobs_2 within min 20 based on sov from skim\n",
      "Calculating sum of jobs_5 within min 20 based on sov from skim\n",
      "Calculating sum of jobs_3 within min 20 based on sov from skim\n",
      "Calculating sum of jobs_4 within min 20 based on sov from skim\n"
     ]
    },
    {
     "name": "stderr",
     "output_type": "stream",
     "text": [
      "/Users/juandavidcaicedocastro/anaconda3/envs/mlcm/lib/python3.9/site-packages/choicemodels/tools/simulation.py:179: FutureWarning: The default dtype for empty Series will be 'object' instead of 'float64' in a future version. Specify a dtype explicitly to silence this warning.\n",
      "  valid_choices = pd.Series()\n"
     ]
    },
    {
     "name": "stdout",
     "output_type": "stream",
     "text": [
      "Replacing MCT None's and NaN's with 0\n",
      "Iteration 1: 50000 of 3013484 valid choices\n",
      "Replacing MCT None's and NaN's with 0\n",
      "Iteration 2: 100000 of 3013484 valid choices\n",
      "Replacing MCT None's and NaN's with 0\n",
      "Iteration 3: 150000 of 3013484 valid choices\n",
      "Replacing MCT None's and NaN's with 0\n",
      "Iteration 4: 200000 of 3013484 valid choices\n",
      "Replacing MCT None's and NaN's with 0\n",
      "Iteration 5: 250000 of 3013484 valid choices\n"
     ]
    }
   ],
   "source": [
    "m.run(chooser_batch_size = 50000)"
   ]
  },
  {
   "cell_type": "code",
   "execution_count": 10,
   "id": "a71c277e",
   "metadata": {},
   "outputs": [
    {
     "name": "stdout",
     "output_type": "stream",
     "text": [
      "Saving 'wlcm.yaml': /Users/juandavidcaicedocastro/Dropbox/01_berkeley/22_UrbanSim/01_projects/MLCM/02_github/DEMOS_URBANSIM/demos_urbansim/configs/calibrated_configs/custom/06197001\n",
      "Registering model step 'wlcm'\n"
     ]
    }
   ],
   "source": [
    "mm.register(m)"
   ]
  },
  {
   "cell_type": "code",
   "execution_count": null,
   "id": "b7ae2b94",
   "metadata": {},
   "outputs": [],
   "source": [
    "orca.list_steps()"
   ]
  },
  {
   "cell_type": "code",
   "execution_count": null,
   "id": "1185a129",
   "metadata": {},
   "outputs": [],
   "source": [
    "orca.run(['work_location'])"
   ]
  },
  {
   "cell_type": "code",
   "execution_count": null,
   "id": "5b1c13a1",
   "metadata": {},
   "outputs": [],
   "source": [
    "work_block_id = orca.get_table('persons').to_frame(columns = ['work_block_id'])\n",
    "work_block_id"
   ]
  }
 ],
 "metadata": {
  "kernelspec": {
   "display_name": "mlcm",
   "language": "python",
   "name": "mlcm"
  },
  "language_info": {
   "codemirror_mode": {
    "name": "ipython",
    "version": 3
   },
   "file_extension": ".py",
   "mimetype": "text/x-python",
   "name": "python",
   "nbconvert_exporter": "python",
   "pygments_lexer": "ipython3",
   "version": "3.9.16"
  }
 },
 "nbformat": 4,
 "nbformat_minor": 5
}
