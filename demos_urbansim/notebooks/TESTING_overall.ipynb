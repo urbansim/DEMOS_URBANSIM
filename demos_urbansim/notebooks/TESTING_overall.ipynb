{
 "cells": [
  {
   "cell_type": "code",
   "execution_count": 1,
   "id": "3b089516",
   "metadata": {},
   "outputs": [],
   "source": [
    "import os \n",
    "os.chdir('../')"
   ]
  },
  {
   "cell_type": "code",
   "execution_count": 2,
   "id": "28a61442",
   "metadata": {},
   "outputs": [],
   "source": [
    "import orca\n",
    "from collections import OrderedDict\n",
    "\n",
    "from urbansim_templates import modelmanager as mm\n",
    "from urbansim_templates.models import LargeMultinomialLogitStep\n",
    "from urbansim_templates.utils import get_data, get_df\n",
    "\n",
    "from choicemodels.tools import MergedChoiceTable\n",
    "\n",
    "from urbansim.models.util import columns_in_formula, apply_filter_query"
   ]
  },
  {
   "cell_type": "code",
   "execution_count": 3,
   "id": "bcfa0ab7",
   "metadata": {},
   "outputs": [],
   "source": [
    "region_code = '06197001'\n",
    "orca.add_injectable('running_calibration_routine', False)\n",
    "orca.add_injectable('local_simulation', True)\n",
    "orca.add_injectable('initial_run', False)\n",
    "orca.add_injectable('region_code', region_code)\n",
    "orca.add_injectable('base_year', 2010)\n",
    "orca.add_injectable('forecast_year', 2011)\n",
    "orca.add_injectable('calibrated', True)\n",
    "orca.add_injectable('calibrated_folder', 'custom')\n",
    "orca.add_injectable('multi_level_lcms', True)\n",
    "orca.add_injectable('segmented_lcms', True)\n",
    "orca.add_injectable('capacity_boost', 1)\n",
    "orca.add_injectable('all_local', True)\n",
    "orca.add_injectable('skim_source', 'beam')"
   ]
  },
  {
   "cell_type": "code",
   "execution_count": 4,
   "id": "2da236f1",
   "metadata": {},
   "outputs": [
    {
     "name": "stdout",
     "output_type": "stream",
     "text": [
      "importing datasources\n",
      "importing datasources for region 06197001\n",
      "custom_mpo_06197001_model_data.h5\n",
      "Checking if custom_settings.yaml file exists\n",
      "Checking if custom output_parameters.yaml file exists\n"
     ]
    },
    {
     "name": "stderr",
     "output_type": "stream",
     "text": [
      "/Users/juandavidcaicedocastro/Dropbox/01_berkeley/22_UrbanSim/01_projects/MLCM/02_github/DEMOS_URBANSIM/demos_urbansim/datasources.py:357: FutureWarning: The frame.append method is deprecated and will be removed from pandas in a future version. Use pandas.concat instead.\n",
      "  hct = hct.append(forecast_hct.reset_index())\n",
      "/Users/juandavidcaicedocastro/Dropbox/01_berkeley/22_UrbanSim/01_projects/MLCM/02_github/DEMOS_URBANSIM/demos_urbansim/datasources.py:389: FutureWarning: The frame.append method is deprecated and will be removed from pandas in a future version. Use pandas.concat instead.\n",
      "  ect = ect.append(forecast_ect.reset_index())\n"
     ]
    },
    {
     "name": "stdout",
     "output_type": "stream",
     "text": [
      "Output path exists!\n",
      "importing variables for region 06197001\n",
      "importing models for region 06197001\n",
      "Checking if value configs exist\n",
      "Checking if rent configs exist\n"
     ]
    }
   ],
   "source": [
    "import datasources\n",
    "import variables\n",
    "import models"
   ]
  },
  {
   "cell_type": "code",
   "execution_count": 5,
   "id": "9b1e5538",
   "metadata": {},
   "outputs": [
    {
     "name": "stdout",
     "output_type": "stream",
     "text": [
      "Registering model step 'hlcm_county_own_1p_54less_pf'\n",
      "Registering model step 'rdplcm_06081_blocks_pf'\n",
      "Registering model step 'hlcm_06013_blocks_rent_1p_54less_pf'\n",
      "Registering model step 'elcm_06097_blocks_1_pf'\n",
      "Registering model step 'hlcm_06001_blocks_pf'\n",
      "Registering model step 'mortality'\n",
      "Registering model step 'hlcm_06075_blocks_own_2p_54less_pf'\n",
      "Registering model step 'elcm_06001_blocks_2_pf'\n",
      "Registering model step 'elcm_06041_blocks_3_pf'\n",
      "Registering model step 'hlcm_06081_blocks_own_1p_54less_pf'\n",
      "Registering model step 'elcm_06075_blocks_0_pf'\n",
      "Registering model step 'hlcm_06013_blocks_pf'\n",
      "Registering model step 'rdplcm_06013_blocks_sf_pf'\n",
      "Registering model step 'hlcm_06055_blocks_own_1p_54less_pf'\n",
      "Registering model step 'hlcm_06013_blocks_own_2p_54less_pf'\n",
      "Registering model step 'hlcm_06085_blocks_own_2p_54less_pf'\n",
      "Registering model step 'elcm_06013_blocks_4_pf'\n",
      "Registering model step 'hlcm_06085_blocks_rent_2p_54less_pf'\n",
      "Registering model step 'hlcm_06097_blocks_own_1p_55plus_pf'\n",
      "Registering model step 'rdplcm_06095_blocks_mf_pf'\n",
      "Registering model step 'hlcm_06001_blocks_own_1p_55plus_pf'\n",
      "Registering model step 'rdplcm_06075_blocks_sf_pf'\n",
      "Registering model step 'elcm_06055_blocks_3_pf'\n",
      "Registering model step 'hlcm_06095_blocks_pf'\n",
      "Registering model step 'rdplcm_06041_blocks_sf_pf'\n",
      "Registering model step 'rdplcm_06041_blocks_mf_pf'\n",
      "Registering model step 'elcm_06013_blocks_5_pf'\n",
      "Registering model step 'rdplcm_06001_blocks_pf'\n",
      "Registering model step 'hlcm_06081_blocks_own_1p_55plus_pf'\n",
      "Registering model step 'hlcm_06081_blocks_pf'\n",
      "Registering model step 'hlcm_06075_blocks_own_2p_55plus_pf'\n",
      "Registering model step 'rdplcm_06013_blocks_mf_pf'\n",
      "Registering model step 'hlcm_06013_blocks_rent_1p_55plus_pf'\n",
      "Registering model step 'hlcm_county_own_1p_55plus_pf'\n",
      "Registering model step 'elcm_06055_blocks_2_pf'\n",
      "Registering model step 'rdplcm_06075_blocks_mf_pf'\n",
      "Registering model step 'rdplcm_06095_blocks_sf_pf'\n",
      "Registering model step 'elcm_06097_blocks_0_pf'\n",
      "Registering model step 'rdplcm_06013_blocks_pf'\n",
      "Registering model step 'elcm_06041_blocks_2_pf'\n",
      "Registering model step 'elcm_06001_blocks_3_pf'\n",
      "Registering model step 'kids_move'\n",
      "Registering model step 'elcm_06075_blocks_1_pf'\n",
      "Registering model step 'hlcm_06001_blocks_own_1p_54less_pf'\n",
      "Registering model step 'hlcm_06085_blocks_rent_2p_55plus_pf'\n",
      "Registering model step 'hlcm_06097_blocks_own_1p_54less_pf'\n",
      "Registering model step 'rdplcm_06095_blocks_pf'\n",
      "Registering model step 'hlcm_06085_blocks_own_2p_55plus_pf'\n",
      "Registering model step 'hlcm_06055_blocks_own_1p_55plus_pf'\n",
      "Registering model step 'hlcm_06013_blocks_own_2p_55plus_pf'\n",
      "Registering model step 'hlcm_06041_blocks_rent_1p_55plus_pf'\n",
      "Registering model step 'rdplcm_06075_blocks_pf'\n",
      "Registering model step 'hlcm_county_rent_2p_54less_pf'\n",
      "Registering model step 'elcm_06085_blocks_4_pf'\n",
      "Registering model step 'hlcm_06097_blocks_rent_1p_54less_pf'\n",
      "Registering model step 'elcm_06055_blocks_0_pf'\n",
      "Registering model step 'hlcm_06055_blocks_rent_2p_54less_pf'\n",
      "Registering model step 'elcm_county_4_pf'\n",
      "Registering model step 'elcm_06081_blocks_5_pf'\n",
      "Registering model step 'rdplcm_06097_blocks_pf'\n",
      "Registering model step 'hlcm_06095_blocks_own_2p_54less_pf'\n",
      "Registering model step 'elcm_06001_blocks_1_pf'\n",
      "Registering model step 'elcm_06041_blocks_0_pf'\n",
      "Registering model step 'elcm_06041_blocks_pf'\n",
      "Registering model step 'hlcm_06081_blocks_rent_1p_55plus_pf'\n",
      "Registering model step 'elcm_06097_blocks_2_pf'\n",
      "Registering model step 'elcm_06095_blocks_5_pf'\n",
      "Registering model step 'hlcm_06041_blocks_own_2p_54less_pf'\n",
      "Registering model step 'rdplcm_06097_blocks_mf_pf'\n",
      "Registering model step 'rdplcm_06085_blocks_pf'\n",
      "Registering model step 'hlcm_06001_blocks_rent_2p_54less_pf'\n",
      "Registering model step 'hlcm_06095_blocks_rent_2p_54less_pf'\n",
      "Registering model step 'elcm_06075_blocks_3_pf'\n",
      "Registering model step 'hlcm_06075_blocks_rent_1p_55plus_pf'\n",
      "Registering model step 'hlcm_06095_blocks_own_2p_55plus_pf'\n",
      "Registering model step 'elcm_06041_blocks_1_pf'\n",
      "Registering model step 'elcm_06001_blocks_0_pf'\n",
      "Registering model step 'hlcm_06075_blocks_pf'\n",
      "Registering model step 'hlcm_06055_blocks_rent_2p_55plus_pf'\n",
      "Registering model step 'elcm_06097_blocks_3_pf'\n",
      "Registering model step 'hlcm_06097_blocks_rent_1p_55plus_pf'\n",
      "Registering model step 'elcm_06095_blocks_4_pf'\n",
      "Registering model step 'hlcm_county_pf'\n",
      "Registering model step 'elcm_06055_blocks_pf'\n",
      "Registering model step 'hlcm_county_rent_2p_55plus_pf'\n",
      "Registering model step 'hlcm_06097_blocks_pf'\n",
      "Registering model step 'hlcm_06041_blocks_rent_1p_54less_pf'\n",
      "Registering model step 'rdplcm_06097_blocks_sf_pf'\n",
      "Registering model step 'elcm_06075_blocks_2_pf'\n",
      "Registering model step 'hlcm_06075_blocks_rent_1p_54less_pf'\n",
      "Registering model step 'hlcm_06095_blocks_rent_2p_55plus_pf'\n",
      "Registering model step 'hlcm_06001_blocks_rent_2p_55plus_pf'\n",
      "Registering model step 'wlcm'\n",
      "Registering model step 'elcm_06085_blocks_5_pf'\n",
      "Registering model step 'hlcm_06085_blocks_pf'\n",
      "Registering model step 'elcm_06055_blocks_1_pf'\n",
      "Registering model step 'hlcm_06041_blocks_own_2p_55plus_pf'\n",
      "Registering model step 'hlcm_06081_blocks_rent_1p_54less_pf'\n",
      "Registering model step 'elcm_06081_blocks_4_pf'\n",
      "Registering model step 'elcm_county_5_pf'\n",
      "Registering model step 'education'\n",
      "Registering model step 'hlcm_county_own_2p_55plus_pf'\n",
      "Registering model step 'elcm_06055_blocks_4_pf'\n",
      "Registering model step 'rdplcm_06001_blocks_mf_pf'\n",
      "Registering model step 'hlcm_06013_blocks_rent_2p_55plus_pf'\n",
      "Registering model step 'elcm_county_0_pf'\n",
      "Registering model step 'hlcm_06075_blocks_own_1p_55plus_pf'\n",
      "Registering model step 'elcm_06081_blocks_1_pf'\n",
      "Registering model step 'elcm_06013_blocks_3_pf'\n",
      "Registering model step 'hlcm_06081_blocks_own_2p_55plus_pf'\n",
      "Registering model step 'elcm_06085_blocks_0_pf'\n",
      "Registering model step 'rdplcm_06055_blocks_pf'\n",
      "Registering model step 'hlcm_06013_blocks_own_1p_55plus_pf'\n",
      "Registering model step 'hlcm_06055_blocks_own_2p_55plus_pf'\n",
      "Registering model step 'hlcm_06085_blocks_own_1p_55plus_pf'\n",
      "Registering model step 'hlcm_06041_blocks_pf'\n",
      "Registering model step 'hlcm_06085_blocks_rent_1p_55plus_pf'\n",
      "Registering model step 'hlcm_06097_blocks_own_2p_54less_pf'\n",
      "Registering model step 'hlcm_06001_blocks_own_2p_54less_pf'\n",
      "Registering model step 'elcm_06041_blocks_4_pf'\n",
      "Registering model step 'elcm_06001_blocks_5_pf'\n",
      "Registering model step 'elcm_06095_blocks_1_pf'\n",
      "Registering model step 'elcm_county_pf'\n",
      "Registering model step 'elcm_06075_blocks_pf'\n",
      "Registering model step 'hlcm_06081_blocks_own_2p_54less_pf'\n",
      "Registering model step 'elcm_06001_blocks_4_pf'\n",
      "Registering model step 'elcm_06097_blocks_pf'\n",
      "Registering model step 'elcm_06041_blocks_5_pf'\n",
      "Registering model step 'birth'\n",
      "Registering model step 'hlcm_06055_blocks_pf'\n",
      "Registering model step 'hlcm_06075_blocks_own_1p_54less_pf'\n",
      "Registering model step 'elcm_06095_blocks_0_pf'\n",
      "Registering model step 'hlcm_06013_blocks_rent_2p_54less_pf'\n",
      "Registering model step 'hlcm_county_own_2p_54less_pf'\n",
      "Registering model step 'elcm_06055_blocks_5_pf'\n",
      "Registering model step 'rdplcm_06041_blocks_pf'\n",
      "Registering model step 'elcm_06081_blocks_0_pf'\n",
      "Registering model step 'elcm_county_1_pf'\n",
      "Registering model step 'rdplcm_06001_blocks_sf_pf'\n",
      "Registering model step 'elcm_06013_blocks_2_pf'\n",
      "Registering model step 'elcm_06085_blocks_pf'\n",
      "Registering model step 'hlcm_06001_blocks_own_2p_55plus_pf'\n",
      "Registering model step 'hlcm_06085_blocks_rent_1p_54less_pf'\n",
      "Registering model step 'hlcm_06097_blocks_own_2p_55plus_pf'\n",
      "Registering model step 'hlcm_06085_blocks_own_1p_54less_pf'\n",
      "Registering model step 'elcm_06085_blocks_1_pf'\n",
      "Registering model step 'hlcm_06013_blocks_own_1p_54less_pf'\n",
      "Registering model step 'hlcm_06055_blocks_own_2p_54less_pf'\n",
      "Registering model step 'hlcm_06041_blocks_rent_2p_54less_pf'\n",
      "Registering model step 'elcm_06075_blocks_4_pf'\n",
      "Registering model step 'elcm_06001_blocks_pf'\n",
      "Registering model step 'hlcm_county_rent_1p_55plus_pf'\n",
      "Registering model step 'rdplcm_06055_blocks_sf_pf'\n",
      "Registering model step 'rdplcm_06085_blocks_sf_pf'\n",
      "Registering model step 'elcm_06097_blocks_5_pf'\n",
      "Registering model step 'hlcm_06055_blocks_rent_1p_55plus_pf'\n",
      "Registering model step 'elcm_06095_blocks_2_pf'\n",
      "Registering model step 'hlcm_06097_blocks_rent_2p_55plus_pf'\n",
      "Registering model step 'rdplcm_06081_blocks_mf_pf'\n",
      "Registering model step 'hlcm_06095_blocks_own_1p_55plus_pf'\n",
      "Registering model step 'divorce'\n",
      "Registering model step 'rdplcm_county_pf'\n",
      "Registering model step 'elcm_06013_blocks_pf'\n",
      "Registering model step 'elcm_county_3_pf'\n",
      "Registering model step 'elcm_06081_blocks_2_pf'\n",
      "Registering model step 'hlcm_06081_blocks_rent_2p_54less_pf'\n",
      "Registering model step 'hlcm_06041_blocks_own_1p_55plus_pf'\n",
      "Registering model step 'elcm_06085_blocks_3_pf'\n",
      "Registering model step 'rdplcm_county_sf_pf'\n",
      "Registering model step 'hlcm_06075_blocks_rent_2p_54less_pf'\n",
      "Registering model step 'elcm_06095_blocks_pf'\n",
      "Registering model step 'hlcm_06095_blocks_rent_1p_55plus_pf'\n",
      "Registering model step 'hlcm_06001_blocks_rent_1p_55plus_pf'\n",
      "Registering model step 'elcm_06013_blocks_0_pf'\n",
      "Registering model step 'elcm_06081_blocks_3_pf'\n",
      "Registering model step 'elcm_county_2_pf'\n",
      "Registering model step 'hlcm_06095_blocks_own_1p_54less_pf'\n",
      "Registering model step 'rdplcm_county_mf_pf'\n",
      "Registering model step 'elcm_06081_blocks_pf'\n",
      "Registering model step 'hlcm_06097_blocks_rent_2p_54less_pf'\n",
      "Registering model step 'hlcm_06055_blocks_rent_1p_54less_pf'\n",
      "Registering model step 'elcm_06085_blocks_2_pf'\n",
      "Registering model step 'hlcm_county_rent_1p_54less_pf'\n",
      "Registering model step 'elcm_06013_blocks_1_pf'\n",
      "Registering model step 'hlcm_06041_blocks_rent_2p_55plus_pf'\n",
      "Registering model step 'hlcm_06001_blocks_rent_1p_54less_pf'\n",
      "Registering model step 'hlcm_06095_blocks_rent_1p_54less_pf'\n",
      "Registering model step 'hlcm_06075_blocks_rent_2p_55plus_pf'\n",
      "Registering model step 'elcm_06075_blocks_5_pf'\n",
      "Registering model step 'rdplcm_06081_blocks_sf_pf'\n",
      "Registering model step 'hlcm_06041_blocks_own_1p_54less_pf'\n",
      "Registering model step 'hlcm_06081_blocks_rent_2p_55plus_pf'\n",
      "Registering model step 'elcm_06097_blocks_4_pf'\n",
      "Registering model step 'elcm_06095_blocks_3_pf'\n",
      "Registering model step 'rdplcm_06055_blocks_mf_pf'\n",
      "Registering model step 'rdplcm_06085_blocks_mf_pf'\n",
      "Running step 'build_networks'\n",
      "Number of nodes is 92395.\n",
      "Number of edges is 232266.\n",
      "Generating contraction hierarchies with 8 threads.\n",
      "Setting CH node vector of size 92395\n",
      "Setting CH edge vector of size 232266\n",
      "Range graph removed 233224 edges of 464532\n"
     ]
    },
    {
     "name": "stdout",
     "output_type": "stream",
     "text": [
      ". 10% . 20% . 30% . 40% . 50% . 60% . 70% . 80% . 90% . 100%\n",
      "Precomputing network for distance 1000.\n",
      "Network precompute starting.\n",
      "Network precompute done.\n",
      "Time to execute step 'build_networks': 3.86 s\n",
      "Running step 'generate_outputs'\n",
      "Generating outputs for (year 2010, forecast year 2011)...\n",
      "Time to execute step 'generate_outputs': 0.00 s\n",
      "Total time to execute iteration 1 with iteration value None: 3.86 s\n"
     ]
    },
    {
     "name": "stderr",
     "output_type": "stream",
     "text": [
      "/Users/juandavidcaicedocastro/Dropbox/01_berkeley/22_UrbanSim/01_projects/MLCM/02_github/DEMOS_URBANSIM/demos_urbansim/variables.py:1414: FutureWarning: The default value of numeric_only in DataFrameGroupBy.mean is deprecated. In a future version, numeric_only will default to False. Either specify numeric_only or select only columns which should be valid for the function.\n",
      "  coords = blocks.local.groupby('block_group_id').mean().reset_index()\n",
      "/Users/juandavidcaicedocastro/Dropbox/01_berkeley/22_UrbanSim/01_projects/MLCM/02_github/DEMOS_URBANSIM/demos_urbansim/variables.py:1406: FutureWarning: The default value of numeric_only in DataFrameGroupBy.mean is deprecated. In a future version, numeric_only will default to False. Either specify numeric_only or select only columns which should be valid for the function.\n",
      "  coords = blocks.local.groupby('block_group_id').mean().reset_index()\n"
     ]
    }
   ],
   "source": [
    "configs_folder = 'configs/calibrated_configs/custom/06197001'\n",
    "mm.initialize(configs_folder)\n",
    "orca.run(orca.get_injectable('pre_processing_steps'))"
   ]
  },
  {
   "cell_type": "code",
   "execution_count": 6,
   "id": "7fe040d5",
   "metadata": {},
   "outputs": [],
   "source": [
    "travel_data = orca.get_table('travel_data')"
   ]
  },
  {
   "cell_type": "code",
   "execution_count": 13,
   "id": "fe9e73d1",
   "metadata": {},
   "outputs": [],
   "source": [
    "t = travel_data.to_frame(columns = 'logsum')"
   ]
  },
  {
   "cell_type": "code",
   "execution_count": 14,
   "id": "8480ae8c",
   "metadata": {},
   "outputs": [
    {
     "data": {
      "text/plain": [
       "<Axes: ylabel='Frequency'>"
      ]
     },
     "execution_count": 14,
     "metadata": {},
     "output_type": "execute_result"
    },
    {
     "data": {
      "image/png": "[encoded data removed]",
      "text/plain": [
       "<Figure size 640x480 with 1 Axes>"
      ]
     },
     "metadata": {},
     "output_type": "display_data"
    }
   ],
   "source": [
    "t.plot.hist(bins = 100)"
   ]
  },
  {
   "cell_type": "code",
   "execution_count": null,
   "id": "327e9a2d",
   "metadata": {},
   "outputs": [],
   "source": []
  }
 ],
 "metadata": {
  "kernelspec": {
   "display_name": "mlcm",
   "language": "python",
   "name": "mlcm"
  },
  "language_info": {
   "codemirror_mode": {
    "name": "ipython",
    "version": 3
   },
   "file_extension": ".py",
   "mimetype": "text/x-python",
   "name": "python",
   "nbconvert_exporter": "python",
   "pygments_lexer": "ipython3",
   "version": "3.9.16"
  }
 },
 "nbformat": 4,
 "nbformat_minor": 5
}
